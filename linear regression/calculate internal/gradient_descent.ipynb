{
 "cells": [
  {
   "cell_type": "code",
   "execution_count": 24,
   "metadata": {},
   "outputs": [
    {
     "name": "stdout",
     "output_type": "stream",
     "text": [
      "m 1.076 b 0.17600000000000002 cost 90.80000000000001 iterations 10\n",
      "m 1.27008 b 0.21936 cost 20.539327999999998 iterations 10\n",
      "m 1.3036928 b 0.23856319999999998 cost 18.194160051199997 iterations 10\n",
      "m 1.308110976 b 0.2533488 cost 18.097608985487362 iterations 10\n",
      "m 1.3072203392000001 b 0.26730850687999996 cost 18.075578890565488 iterations 10\n",
      "m 1.3053670470144 b 0.28109589603839996 cost 18.056089631985568 iterations 10\n",
      "m 1.3033419018782721 b 0.29482993247590394 cost 18.036757807862298 iterations 10\n",
      "m 1.301288788478546 b 0.3085323056009932 cost 18.017504222158063 iterations 10\n",
      "m 1.29923388102359 b 0.32220700487154785 cost 17.998325967473026 iterations 10\n",
      "m 1.2971819356201324 b 0.3358547990512861 cost 17.979222663282545 iterations 10\n"
     ]
    }
   ],
   "source": [
    "import numpy as np\n",
    "import malplotlib.pyplot as plt\n",
    "\n",
    "def gradient_descent(x,y):\n",
    "    m_curr = 0\n",
    "    b_curr = 0\n",
    "    iteration = 10\n",
    "    learning_rate = 0.01\n",
    "    n = len(x)\n",
    "       \n",
    "    for i in range(iteration):\n",
    "    \n",
    "        y_predicted = m_curr * x + b_curr\n",
    "        cost = (1/n)*sum([val ** 2 for val in (y-y_predicted)])\n",
    "        md = -(2/n)*sum(x*(y-y_predicted)) #have to remember\n",
    "        bd = -(2/n)*sum((y-y_predicted))#have to remember\n",
    "        \n",
    "        m_curr = m_curr - learning_rate * md\n",
    "        b_curr = b_curr - learning_rate * bd\n",
    "        \n",
    "        print(\"m {} b {} cost {} iterations {}\".format(m_curr,b_curr,cost,iteration))\n",
    "        \n",
    "\n",
    "x = np.array([3,5,7,9,6])\n",
    "y = np.array([10,5,4,12,13])\n",
    "\n",
    "gradient_descent(x,y)"
   ]
  },
  {
   "cell_type": "code",
   "execution_count": null,
   "metadata": {},
   "outputs": [],
   "source": []
  }
 ],
 "metadata": {
  "kernelspec": {
   "display_name": "Python 3",
   "language": "python",
   "name": "python3"
  },
  "language_info": {
   "codemirror_mode": {
    "name": "ipython",
    "version": 3
   },
   "file_extension": ".py",
   "mimetype": "text/x-python",
   "name": "python",
   "nbconvert_exporter": "python",
   "pygments_lexer": "ipython3",
   "version": "3.5.2"
  }
 },
 "nbformat": 4,
 "nbformat_minor": 2
}
